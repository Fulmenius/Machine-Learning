{
  "nbformat": 4,
  "nbformat_minor": 0,
  "metadata": {
    "colab": {
      "provenance": [],
      "authorship_tag": "ABX9TyNzGhtOhH1ldC5QcehJs2IT",
      "include_colab_link": true
    },
    "kernelspec": {
      "name": "python3",
      "display_name": "Python 3"
    },
    "language_info": {
      "name": "python"
    }
  },
  "cells": [
    {
      "cell_type": "markdown",
      "metadata": {
        "id": "view-in-github",
        "colab_type": "text"
      },
      "source": [
        "<a href=\"https://colab.research.google.com/github/Fulmenius/Machine-Learning/blob/main/Training_Routine.ipynb\" target=\"_parent\"><img src=\"https://colab.research.google.com/assets/colab-badge.svg\" alt=\"Open In Colab\"/></a>"
      ]
    },
    {
      "cell_type": "code",
      "execution_count": null,
      "metadata": {
        "id": "fFbB2AMUztnG"
      },
      "outputs": [],
      "source": [
        "def train_model(model, train_dataloader, test_dataloader, loss_function, num_epochs=5, optimizer=torch.optim.Adam(), device):\n",
        "    \"\"\"\n",
        "    Universal model training function. \n",
        "\n",
        "    Inputs:\n",
        "            model - torch.nn.Module\n",
        "            dataloader\n",
        "            loss\n",
        "            num_epochs - number of epochs, default = 5\n",
        "            optimizer - from torch.optim.Adam\n",
        "    \"\"\"\n",
        "    model = model.to(device)\n",
        "\n",
        "    train_losses = []\n",
        "    test_losses = []\n",
        "    train_precision = []\n",
        "    test_precision = []\n",
        "    train_recall = []\n",
        "    test_recall = []\n",
        "\n",
        "    for epoch in range(num_epochs):\n",
        "        for batch_idx, (X, y) in enumerate(train_dataloader):\n",
        "          optimizer.zero_grad()\n",
        "          outputs = model(X)\n",
        "          loss = loss_function(outputs, y.float().to(device))\n",
        "          train_losses.append(loss)\n",
        "          loss.backward()\n",
        "          optimizer.step()\n",
        "\n",
        "        with torch.no_grad():\n",
        "          for batch_idx, (X, y) in enumerate(test_dataloader):\n",
        "            \n",
        "          \n",
        "\n",
        "        print(f\"Epoch: {epoch+1}/{num_epochs}, Loss: {loss.item()}\")\n",
        "\n",
        "\n",
        "\n",
        "    return model        "
      ]
    }
  ]
}